{
  "nbformat": 4,
  "nbformat_minor": 0,
  "metadata": {
    "colab": {
      "name": "Image Visualization.ipynb",
      "provenance": [],
      "collapsed_sections": []
    },
    "kernelspec": {
      "name": "python3",
      "display_name": "Python 3"
    }
  },
  "cells": [
    {
      "cell_type": "code",
      "metadata": {
        "id": "Si7_2f8J10dx",
        "colab_type": "code",
        "colab": {}
      },
      "source": [
        "#@title Copyright 2020 Google LLC. { display-mode: \"form\" }\n",
        "# Licensed under the Apache License, Version 2.0 (the \"License\");\n",
        "# you may not use this file except in compliance with the License.\n",
        "# You may obtain a copy of the License at\n",
        "#\n",
        "# https://www.apache.org/licenses/LICENSE-2.0\n",
        "#\n",
        "# Unless required by applicable law or agreed to in writing, software\n",
        "# distributed under the License is distributed on an \"AS IS\" BASIS,\n",
        "# WITHOUT WARRANTIES OR CONDITIONS OF ANY KIND, either express or implied.\n",
        "# See the License for the specific language governing permissions and\n",
        "# limitations under the License."
      ],
      "execution_count": null,
      "outputs": []
    },
    {
      "cell_type": "markdown",
      "metadata": {
        "id": "5gXyCzdk2Uch",
        "colab_type": "text"
      },
      "source": [
        "<table class=\"ee-notebook-buttons\" align=\"left\"><td>\n",
        "<a target=\"_blank\"  href=\"http://colab.research.google.com/github/google/earthengine-api/blob/master/python/examples/ipynb/ee-api-colab-setup.ipynb\">\n",
        "    <img src=\"https://www.tensorflow.org/images/colab_logo_32px.png\" /> Run in Google Colab</a>\n",
        "</td><td>\n",
        "<a target=\"_blank\"  href=\"https://github.com/google/earthengine-api/blob/master/python/examples/ipynb/ee-api-colab-setup.ipynb\"><img width=32px src=\"https://www.tensorflow.org/images/GitHub-Mark-32px.png\" /> View source on GitHub</a></td></table>"
      ]
    },
    {
      "cell_type": "markdown",
      "metadata": {
        "id": "qBdFt0u2_85O",
        "colab_type": "text"
      },
      "source": [
        "# Setup"
      ]
    },
    {
      "cell_type": "code",
      "metadata": {
        "id": "yXzjYFAt4eGa",
        "colab_type": "code",
        "colab": {}
      },
      "source": [
        "# Import the Earth Engine library.\n",
        "import ee\n",
        "ee.Authenticate()\n",
        "ee.Initialize()"
      ],
      "execution_count": null,
      "outputs": []
    },
    {
      "cell_type": "code",
      "metadata": {
        "id": "4w_ZXw0rDNgt",
        "colab_type": "code",
        "colab": {}
      },
      "source": [
        "# Import the folium library; it is used for interactive map display.\n",
        "import folium\n",
        "\n",
        "# Define a method for displaying Earth Engine image tiles to folium map.\n",
        "def add_ee_layer(self, ee_image_object, vis_params, name):\n",
        "  map_id_dict = ee.Image(ee_image_object).getMapId(vis_params)\n",
        "  folium.raster_layers.TileLayer(\n",
        "    tiles = map_id_dict['tile_fetcher'].url_format,\n",
        "    attr = 'Map Data &copy; <a href=\"https://earthengine.google.com/\">Google Earth Engine</a>',\n",
        "    name = name,\n",
        "    overlay = True,\n",
        "    control = True\n",
        "  ).add_to(self)\n",
        "\n",
        "# Add Earth Engine layer drawing method to folium.\n",
        "folium.Map.add_ee_layer = add_ee_layer"
      ],
      "execution_count": null,
      "outputs": []
    },
    {
      "cell_type": "markdown",
      "metadata": {
        "id": "c5xQe5Kj4hAG",
        "colab_type": "text"
      },
      "source": [
        "# Image Visualization"
      ]
    },
    {
      "cell_type": "markdown",
      "metadata": {
        "id": "Kj-bW4tU4jeO",
        "colab_type": "text"
      },
      "source": [
        "Image tiles generated for visualization of raster data defaults to assigning the first three bands to red, green, and blue, respectively. The default stretch is based on the type of data in the band (e.g. floats are stretched in [0,1], 16-bit data are stretched to the full range of possible values), which may or may not be suitable. To achieve desirable visualization effects, you can provide visualization parameters to the `ee.Image.visualize()` function or to the `vis_params` parameter of the `add_ee_layer()` method added to the `folium` mapping library. Specifically, the parameters are:"
      ]
    },
    {
      "cell_type": "markdown",
      "metadata": {
        "id": "d6oh0Mj44sXF",
        "colab_type": "text"
      },
      "source": [
        "|Parameter|Description|Type|\n",
        "|--- |--- |--- |\n",
        "|`bands`|Comma-delimited list of three band names to be mapped to RGB|list|\n",
        "|`min`|Value(s) to map to 0|number or list of three numbers, one for each band|\n",
        "|`max`|Value(s) to map to 255|number or list of three numbers, one for each band|\n",
        "|`gain`|Value(s) by which to multiply each pixel value|number or list of three numbers, one for each band|\n",
        "|`bias`|Value(s) to add to each DN|number or list of three numbers, one for each band|\n",
        "|`gamma`|Gamma correction factor(s)|number or list of three numbers, one for each band|\n",
        "|`palette`|List of CSS-style color strings (single-band images only)|comma-separated list of hex strings|\n",
        "|`opacity`|The opacity of the layer (0.0 is fully transparent and 1.0 is fully opaque)|number|\n",
        "|`format`|Either \"jpg\" or \"png\"|string|"
      ]
    },
    {
      "cell_type": "markdown",
      "metadata": {
        "id": "9u-n6-Nf469t",
        "colab_type": "text"
      },
      "source": [
        "## RGB composites"
      ]
    },
    {
      "cell_type": "markdown",
      "metadata": {
        "id": "b3dl9cUv4840",
        "colab_type": "text"
      },
      "source": [
        "The following illustrates the use of parameters to style a Landsat 8 image as a false-color composite:"
      ]
    },
    {
      "cell_type": "code",
      "metadata": {
        "id": "MsXeTbKV5HJ9",
        "colab_type": "code",
        "colab": {}
      },
      "source": [
        "# Load an image.\n",
        "image = ee.Image('LANDSAT/LC08/C01/T1_TOA/LC08_044034_20140318')\n",
        "\n",
        "# Define the visualization parameters.\n",
        "image_viz_params = {\n",
        "    'bands': ['B5', 'B4', 'B3'], 'min': 0, 'max': 0.5, 'gamma': [0.95, 1.1, 1]\n",
        "}\n",
        "\n",
        "# Create an RGB image based on the visualization parameters.\n",
        "image_viz = image.visualize(**image_viz_params)\n",
        "\n",
        "# Display to folium map. \n",
        "m = folium.Map(location=[37.5010, -122.1899], zoom_start=10, height=500)\n",
        "m.add_ee_layer(image_viz, None, 'false color composite')\n",
        "display(m)"
      ],
      "execution_count": null,
      "outputs": []
    },
    {
      "cell_type": "markdown",
      "metadata": {
        "id": "Bdl-lyAP59Sk",
        "colab_type": "text"
      },
      "source": [
        "In this example, band `'B5'` is assigned to red, `'B4'` is assigned to green, and `'B3'` is assigned to blue."
      ]
    },
    {
      "cell_type": "markdown",
      "metadata": {
        "id": "ij8O-LH-6R_t",
        "colab_type": "text"
      },
      "source": [
        "## Color palettes"
      ]
    },
    {
      "cell_type": "markdown",
      "metadata": {
        "id": "ec9f3FHg6UVs",
        "colab_type": "text"
      },
      "source": [
        "To display a single band of an image in color, set the `palette` parameter with a color ramp represented by a list of CSS-style color strings. (See [this reference](http://en.wikipedia.org/wiki/Web_colors) for more information). The following example illustrates how to use colors from cyan (`'00FFFF'`) to blue (`'0000FF'`) to render a [Normalized Difference Water Index (NDWI)](http://www.tandfonline.com/doi/abs/10.1080/01431169608948714) image:"
      ]
    },
    {
      "cell_type": "code",
      "metadata": {
        "id": "sLXIpUAh6kpJ",
        "colab_type": "code",
        "colab": {}
      },
      "source": [
        "# Load an image.\n",
        "image = ee.Image('LANDSAT/LC08/C01/T1_TOA/LC08_044034_20140318')\n",
        "\n",
        "# Create an NDWI image, define visualization parameters.\n",
        "ndwi = image.normalizedDifference(['B3', 'B5'])\n",
        "\n",
        "# Define the visualization parameters.\n",
        "ndwi_viz_params = {'min': 0.5, 'max': 1, 'palette': ['00FFFF', '0000FF']}\n",
        "\n",
        "# Create an RGB image based on the visualization parameters.\n",
        "ndwi_viz = ndwi.visualize(**ndwi_viz_params)\n",
        "\n",
        "# Display to folium map.\n",
        "m = folium.Map(location=[37.5010, -122.1899], zoom_start=10, height=500)\n",
        "m.add_ee_layer(ndwi_viz, None, 'NDWI')\n",
        "display(m)"
      ],
      "execution_count": null,
      "outputs": []
    },
    {
      "cell_type": "markdown",
      "metadata": {
        "id": "m__Nyp7E6lCN",
        "colab_type": "text"
      },
      "source": [
        "In this example, note that the `min` and `max` parameters indicate the range of pixel values to which the palette should be applied. Intermediate values are linearly stretched."
      ]
    },
    {
      "cell_type": "markdown",
      "metadata": {
        "id": "D2Av3S8064z8",
        "colab_type": "text"
      },
      "source": [
        "## Masking"
      ]
    },
    {
      "cell_type": "markdown",
      "metadata": {
        "id": "o7Z1INfX7Tn1",
        "colab_type": "text"
      },
      "source": [
        "You can use `image.updateMask()` to set the opacity of individual pixels based on where pixels in a mask image are non-zero. Pixels equal to zero in the mask are excluded from computations and the opacity is set to 0 for display. The following example uses an NDWI threshold (see the [Relational Operations section](https://developers.google.com/earth-engine/image_relational) for information on thresholds) to update the mask on the NDWI layer created previously:"
      ]
    },
    {
      "cell_type": "code",
      "metadata": {
        "id": "5hA4i7No7nkh",
        "colab_type": "code",
        "colab": {}
      },
      "source": [
        "# Mask the non-watery parts of the image, where NDWI < 0.4.\n",
        "ndwi_viz_masked = ndwi_viz.updateMask(ndwi.gte(0.4))\n",
        "\n",
        "# Display to folium map.\n",
        "m = folium.Map(location=[37.5010, -122.1899], zoom_start=10, height=500)\n",
        "m.add_ee_layer(ndwi_viz_masked, None, 'NDWI')\n",
        "display(m)"
      ],
      "execution_count": null,
      "outputs": []
    },
    {
      "cell_type": "markdown",
      "metadata": {
        "id": "Z3K8NZiG7xDC",
        "colab_type": "text"
      },
      "source": [
        "## Mosaicking"
      ]
    },
    {
      "cell_type": "markdown",
      "metadata": {
        "id": "rI8o6yg87yI6",
        "colab_type": "text"
      },
      "source": [
        "You can use masking and `imageCollection.mosaic()` (see the [Mosaicking section](https://developers.google.com/earth-engine/ic_composite_mosaic) for information on mosaicking) to achieve various cartographic effects. The `mosaic()` method renders layers in the output image according to their order in the input collection. The following example uses `mosaic()` to combine the masked NDWI and the false color composite and obtain a new visualization:"
      ]
    },
    {
      "cell_type": "code",
      "metadata": {
        "id": "Oy-6MqHZ78PS",
        "colab_type": "code",
        "colab": {}
      },
      "source": [
        "# Mosaic the visualization layers and display (or export).\n",
        "mosaic = ee.ImageCollection([image_rgb, ndwi_rgb]).mosaic()\n",
        "\n",
        "# Display to folium map.\n",
        "m = folium.Map(location=[37.5010, -122.1899], zoom_start=10, height=500)\n",
        "m.add_ee_layer(mosaic, None, 'NDWI')\n",
        "display(m)"
      ],
      "execution_count": null,
      "outputs": []
    },
    {
      "cell_type": "markdown",
      "metadata": {
        "id": "kx5cuvCt78iz",
        "colab_type": "text"
      },
      "source": [
        "In this example, observe that a list of the two visualization images is provided to the `ImageCollection` constructor. The order of the list determines the order in which the images are rendered on the map."
      ]
    },
    {
      "cell_type": "markdown",
      "metadata": {
        "id": "Z_Qooc3_8Der",
        "colab_type": "text"
      },
      "source": [
        "## Clipping"
      ]
    },
    {
      "cell_type": "markdown",
      "metadata": {
        "id": "jrFuTcqK8GcL",
        "colab_type": "text"
      },
      "source": [
        "The `image.clip()` method is useful for achieving cartographic effects. The following example clips the mosaic above to an arbitrary buffer zone around the city of San Francisco:"
      ]
    },
    {
      "cell_type": "code",
      "metadata": {
        "id": "phOYpP9T8IxD",
        "colab_type": "code",
        "colab": {}
      },
      "source": [
        "# Create a circle by drawing a 20000 meter buffer around a point.\n",
        "roi = ee.Geometry.Point([-122.4481, 37.7599]).buffer(20000)\n",
        "mosaic_clipped = mosaic.clip(roi)\n",
        "\n",
        "# Display to folium map.\n",
        "m = folium.Map(location=[37.7599, -122.4481], zoom_start=10, height=500)\n",
        "m.add_ee_layer(mosaic_clipped, None, 'NDWI masked')\n",
        "display(m)"
      ],
      "execution_count": null,
      "outputs": []
    },
    {
      "cell_type": "markdown",
      "metadata": {
        "id": "eAqV0DRZ8JQ8",
        "colab_type": "text"
      },
      "source": [
        "In the previous example, note that the coordinates are provided to the `Geometry` constructor and the buffer length is specified as 20,000 meters. Learn more about geometries on the [Geometries page](https://developers.google.com/earth-engine/geometries)."
      ]
    },
    {
      "cell_type": "markdown",
      "metadata": {
        "id": "CbiU9dOM8VTz",
        "colab_type": "text"
      },
      "source": [
        "## Rendering categorical maps"
      ]
    },
    {
      "cell_type": "markdown",
      "metadata": {
        "id": "z1MasI318W5D",
        "colab_type": "text"
      },
      "source": [
        "Palettes are also useful for rendering discrete valued maps, for example a land cover map. In the case of multiple classes, use the palette to supply a different color for each class. (The `image.remap()` method may be useful in this context, to convert arbitrary labels to consecutive integers). The following example uses a palette to render land cover categories:"
      ]
    },
    {
      "cell_type": "code",
      "metadata": {
        "id": "CFMMmJCd8Z9z",
        "colab_type": "code",
        "colab": {}
      },
      "source": [
        "# Load 2012 MODIS land cover and select the IGBP classification.\n",
        "cover = ee.Image('MODIS/051/MCD12Q1/2012_01_01').select('Land_Cover_Type_1')\n",
        "\n",
        "# Define a palette for the 18 distinct land cover classes.\n",
        "igbp_palette = [\n",
        "    'aec3d4',  # water\n",
        "    '152106',\n",
        "    '225129',\n",
        "    '369b47',\n",
        "    '30eb5b',\n",
        "    '387242',  # forest\n",
        "    '6a2325',\n",
        "    'c3aa69',\n",
        "    'b76031',\n",
        "    'd9903d',\n",
        "    '91af40',  # shrub, grass\n",
        "    '111149',  # wetlands\n",
        "    'cdb33b',  # croplands\n",
        "    'cc0013',  # urban\n",
        "    '33280d',  # crop mosaic\n",
        "    'd7cdcc',  # snow and ice\n",
        "    'f7e084',  # barren\n",
        "    '6f6f6f'   # tundra\n",
        "]\n",
        "\n",
        "# Specify the min and max labels and the color palette matching the labels.\n",
        "cover_viz_params = {'min': 0, 'max': 17, 'palette': igbp_palette}\n",
        "\n",
        "# Create an RGB image based on the visualization parameters.\n",
        "cover_viz = cover.visualize(**cover_viz_params)\n",
        "\n",
        "# Display to folium map.\n",
        "m = folium.Map(location=[38, -95], zoom_start=4, height=500)\n",
        "m.add_ee_layer(cover, None, 'IGBP classification')\n",
        "display(m)"
      ],
      "execution_count": null,
      "outputs": []
    },
    {
      "cell_type": "markdown",
      "metadata": {
        "id": "V6TcmrcW8gCc",
        "colab_type": "text"
      },
      "source": [
        "## Styled Layer Descriptors"
      ]
    },
    {
      "cell_type": "markdown",
      "metadata": {
        "id": "jEFjiePI8iur",
        "colab_type": "text"
      },
      "source": [
        "You can use a Styled Layer Descriptor ([SLD](http://www.opengeospatial.org/standards/sld)) to render imagery for display. Provide `image.sldStyle()` with an XML description of the symbolization and coloring of the image, specifically the `RasterSymbolizer` element. Learn more about the `RasterSymbolizer` element [here](http://docs.geoserver.org/stable/en/user/styling/sld/reference/rastersymbolizer.html). For example, to render the land cover map described in the Rendering categorical maps section with an SLD, use:"
      ]
    },
    {
      "cell_type": "code",
      "metadata": {
        "id": "HKMsqb5k8vMK",
        "colab_type": "code",
        "colab": {}
      },
      "source": [
        "cover = ee.Image('MODIS/051/MCD12Q1/2012_01_01').select('Land_Cover_Type_1')\n",
        "\n",
        "# Define an SLD style of discrete intervals to apply to the image.\n",
        "sld_intervals = \"\"\"\n",
        "<RasterSymbolizer>\n",
        "  <ColorMap  type=\"intervals\" extended=\"false\" >\n",
        "    <ColorMapEntry color=\"#aec3d4\" quantity=\"0\" label=\"Water\"/>\n",
        "    <ColorMapEntry color=\"#152106\" quantity=\"1\" label=\"Evergreen Needleleaf Forest\"/>\n",
        "    <ColorMapEntry color=\"#225129\" quantity=\"2\" label=\"Evergreen Broadleaf Forest\"/>\n",
        "    <ColorMapEntry color=\"#369b47\" quantity=\"3\" label=\"Deciduous Needleleaf Forest\"/>\n",
        "    <ColorMapEntry color=\"#30eb5b\" quantity=\"4\" label=\"Deciduous Broadleaf Forest\"/>\n",
        "    <ColorMapEntry color=\"#387242\" quantity=\"5\" label=\"Mixed Deciduous Forest\"/>\n",
        "    <ColorMapEntry color=\"#6a2325\" quantity=\"6\" label=\"Closed Shrubland\"/>\n",
        "    <ColorMapEntry color=\"#c3aa69\" quantity=\"7\" label=\"Open Shrubland\"/>\n",
        "    <ColorMapEntry color=\"#b76031\" quantity=\"8\" label=\"Woody Savanna\"/>\n",
        "    <ColorMapEntry color=\"#d9903d\" quantity=\"9\" label=\"Savanna\"/>\n",
        "    <ColorMapEntry color=\"#91af40\" quantity=\"10\" label=\"Grassland\"/>\n",
        "    <ColorMapEntry color=\"#111149\" quantity=\"11\" label=\"Permanent Wetland\"/>\n",
        "    <ColorMapEntry color=\"#cdb33b\" quantity=\"12\" label=\"Cropland\"/>\n",
        "    <ColorMapEntry color=\"#cc0013\" quantity=\"13\" label=\"Urban\"/>\n",
        "    <ColorMapEntry color=\"#33280d\" quantity=\"14\" label=\"Crop, Natural Veg. Mosaic\"/>\n",
        "    <ColorMapEntry color=\"#d7cdcc\" quantity=\"15\" label=\"Permanent Snow, Ice\"/>\n",
        "    <ColorMapEntry color=\"#f7e084\" quantity=\"16\" label=\"Barren, Desert\"/>\n",
        "    <ColorMapEntry color=\"#6f6f6f\" quantity=\"17\" label=\"Tundra\"/>\n",
        "  </ColorMap>\n",
        "</RasterSymbolizer>\"\"\"\n",
        "\n",
        "# Apply the SLD style to the image.\n",
        "cover_sld = cover.sldStyle(sld_intervals)\n",
        "\n",
        "# Display to folium map.\n",
        "m = folium.Map(location=[38, -95], zoom_start=4, height=500)\n",
        "m.add_ee_layer(cover_sld, None, 'IGBP classification styled')\n",
        "display(m)"
      ],
      "execution_count": null,
      "outputs": []
    },
    {
      "cell_type": "markdown",
      "metadata": {
        "id": "fKTboWyN8wQy",
        "colab_type": "text"
      },
      "source": [
        "To create a visualization image with a color ramp, set the type of the `ColorMap` to 'ramp'. The following example compares the 'interval' and 'ramp' types for rendering a DEM:"
      ]
    },
    {
      "cell_type": "code",
      "metadata": {
        "id": "-k08brOm82dD",
        "colab_type": "code",
        "colab": {}
      },
      "source": [
        "# Load SRTM Digital Elevation Model data.\n",
        "image = ee.Image('CGIAR/SRTM90_V4')\n",
        "\n",
        "# Define an SLD style of discrete intervals to apply to the image.\n",
        "sld_intervals = \"\"\"\n",
        "    <RasterSymbolizer>\n",
        "      <ColorMap type=\"intervals\" extended=\"false\" >\n",
        "        <ColorMapEntry color=\"#0000ff\" quantity=\"0\" label=\"0\"/>\n",
        "        <ColorMapEntry color=\"#00ff00\" quantity=\"100\" label=\"1-100\" />\n",
        "        <ColorMapEntry color=\"#007f30\" quantity=\"200\" label=\"110-200\" />\n",
        "        <ColorMapEntry color=\"#30b855\" quantity=\"300\" label=\"210-300\" />\n",
        "        <ColorMapEntry color=\"#ff0000\" quantity=\"400\" label=\"310-400\" />\n",
        "        <ColorMapEntry color=\"#ffff00\" quantity=\"1000\" label=\"410-1000\" />\n",
        "      </ColorMap>\n",
        "    </RasterSymbolizer>\"\"\"\n",
        "\n",
        "# Define an sld style color ramp to apply to the image.\n",
        "sld_ramp = \"\"\"\n",
        "    <RasterSymbolizer>\n",
        "      <ColorMap type=\"ramp\" extended=\"false\" >\n",
        "        <ColorMapEntry color=\"#0000ff\" quantity=\"0\" label=\"0\"/>\n",
        "        <ColorMapEntry color=\"#00ff00\" quantity=\"100\" label=\"100\" />\n",
        "        <ColorMapEntry color=\"#007f30\" quantity=\"200\" label=\"200\" />\n",
        "        <ColorMapEntry color=\"#30b855\" quantity=\"300\" label=\"300\" />\n",
        "        <ColorMapEntry color=\"#ff0000\" quantity=\"400\" label=\"400\" />\n",
        "        <ColorMapEntry color=\"#ffff00\" quantity=\"500\" label=\"500\" />\n",
        "      </ColorMap>\n",
        "    </RasterSymbolizer>\"\"\"\n",
        "\n",
        "# Apply the SLD styles to the image.\n",
        "intervals = image.sldStyle(sld_intervals)\n",
        "ramp = image.sldStyle(sld_ramp)\n",
        "\n",
        "# Display to folium map.\n",
        "m = folium.Map(location=[42.0289, -76.8054], zoom_start=8, height=500)\n",
        "m.add_ee_layer(intervals, None, 'SLD intervals')\n",
        "m.add_ee_layer(ramp, None, 'SLD ramp')\n",
        "map.add_child(folium.LayerControl())\n",
        "display(m)"
      ],
      "execution_count": null,
      "outputs": []
    },
    {
      "cell_type": "markdown",
      "metadata": {
        "id": "0BcHCwog83zi",
        "colab_type": "text"
      },
      "source": [
        "SLDs are also useful for stretching pixel values to improve visualizations of continuous data. For example, the following code compares the results of an arbitrary linear stretch with a min-max 'Normalization' and a 'Histogram' equalization:"
      ]
    },
    {
      "cell_type": "code",
      "metadata": {
        "id": "6hgWjBOQ8_UL",
        "colab_type": "code",
        "colab": {}
      },
      "source": [
        "# Load a Landsat 8 raw image.\n",
        "image = ee.Image('LANDSAT/LC08/C01/T1/LC08_044034_20140318')\n",
        "\n",
        "# Define a RasterSymbolizer element with '_enhance_' for a placeholder.\n",
        "template_sld = \"\"\"\n",
        "<RasterSymbolizer>\n",
        "  <ContrastEnhancement><_enhance_/></ContrastEnhancement>\n",
        "  <ChannelSelection>\n",
        "    <RedChannel>\n",
        "      <SourceChannelName>B5</SourceChannelName>\n",
        "    </RedChannel>\n",
        "    <GreenChannel>\n",
        "      <SourceChannelName>B4</SourceChannelName>\n",
        "    </GreenChannel>\n",
        "    <BlueChannel>\n",
        "      <SourceChannelName>B3</SourceChannelName>\n",
        "    </BlueChannel>\n",
        "  </ChannelSelection>\n",
        "</RasterSymbolizer>\"\"\"\n",
        "\n",
        "# Get SLDs with different enhancements.\n",
        "equalize_sld = template_sld.replace('_enhance_', 'Histogram')\n",
        "normalize_sld = template_sld.replace('_enhance_', 'Normalize')\n",
        "\n",
        "# Apply the SLD styles to the image.\n",
        "equalized = image.sldStyle(equalize_sld)\n",
        "normalized = image.sldStyle(normalize_sld)\n",
        "\n",
        "# Apply a linear stretch to the image.\n",
        "linear = image.visualize(**{\n",
        "    'bands': ['B5', 'B4', 'B3'], \n",
        "    'min': 0,\n",
        "    'max': 15000\n",
        "})\n",
        "\n",
        "# Display layers to folium map.\n",
        "m = folium.Map(location=[37.5174, -122.0813], zoom_start=10, height=500)\n",
        "m.add_ee_layer(linear, None, 'Linear')\n",
        "m.add_ee_layer(equalized, None, 'Equalized')\n",
        "m.add_ee_layer(normalized, None, 'Normalized')\n",
        "m.add_child(folium.LayerControl())\n",
        "display(m)"
      ],
      "execution_count": null,
      "outputs": []
    },
    {
      "cell_type": "markdown",
      "metadata": {
        "id": "YPkaJXbI9A6x",
        "colab_type": "text"
      },
      "source": [
        "Points of note in reference to using SLDs in Earth Engine:\n",
        "\n",
        "- OGC SLD 1.0 and OGC SE 1.1 are supported.\n",
        "- The XML document passed in can be complete, or just the RasterSymbolizer element and down.\n",
        "- Bands may be selected by their Earth Engine names or index ('1', '2', ...).\n",
        "- The Histogram and Normalize contrast stretch mechanisms are not supported for floating point imagery.\n",
        "- Opacity is only taken into account when it is 0.0 (transparent). Non-zero opacity values are treated as completely opaque.\n",
        "- The OverlapBehavior definition is currently ignored.\n",
        "- The ShadedRelief mechanism is not currently supported.\n",
        "- The ImageOutline mechanism is not currently supported.\n",
        "- The Geometry element is ignored.\n",
        "- The output image will have histogram_bandname metadata if histogram equalization or normalization is requested."
      ]
    },
    {
      "cell_type": "markdown",
      "metadata": {
        "id": "KQ8UsKOz9K8a",
        "colab_type": "text"
      },
      "source": [
        "## Thumbnail images"
      ]
    },
    {
      "cell_type": "markdown",
      "metadata": {
        "id": "KSlZDyQx9Np5",
        "colab_type": "text"
      },
      "source": [
        "Use the `ee.Image.getThumbURL()` method to generate a PNG or JPEG thumbnail image for an `ee.Image` object. Printing the outcome of an expression ending with a call to `getThumbURL()` results in a URL being printed to the console. Visiting the URL sets Earth Engine servers to work on generating the requested thumbnail on-the-fly. The image is displayed in the browser when processing completes. It can be downloaded by selecting appropriate options from the image’s right-click context menu."
      ]
    },
    {
      "cell_type": "markdown",
      "metadata": {
        "id": "DnziGzQU9XeC",
        "colab_type": "text"
      },
      "source": [
        "_**Note:** The authorization token to process the thumbnail lasts 2 hours. Until it expires, anyone with the authorization token can generate the image._"
      ]
    },
    {
      "cell_type": "markdown",
      "metadata": {
        "id": "MA11K_TO9gWQ",
        "colab_type": "text"
      },
      "source": [
        "![](https://developers.google.com/earth-engine/images/Images_thumbnail.png)\n",
        "SRTM digital elevation model displayed as a PNG thumbnail in the browser."
      ]
    },
    {
      "cell_type": "markdown",
      "metadata": {
        "id": "iRa4kylv9jxZ",
        "colab_type": "text"
      },
      "source": [
        "The `getThumbURL()` method shares parameters with `Map.addLayer()`, described in the visualization parameters table above. Additionally, it takes optional `dimension`, `region`, `crs`, and `format` arguments."
      ]
    },
    {
      "cell_type": "markdown",
      "metadata": {
        "id": "x-1-oVyt6RLm",
        "colab_type": "text"
      },
      "source": [
        "| Parameter\t | Description                                    | Type\n",
        "|-- |-- |--\n",
        "| dimension\t | Thumbnail dimensions in pixel units. If a<br>single integer is provided, it defines the<br>size of the image's larger aspect dimension<br>and scales the smaller dimension proportionally.<br>Defaults to 512 pixels for the larger image<br>aspect dimension. | A single integer or string<br>in the format: 'WIDTHxHEIGHT'\n",
        "| region\t | The geospatial region of the image to render.<br>The whole image by default, or the bounds of a<br>provided geometry. | GeoJSON or a 2-D list<br>of at least three point<br>coordinates that define a<br>linear ring\n",
        "| crs\t     | The target projection e.g. 'EPSG:3857'.<br>Defaults to WGS84 ('EPSG:4326'). | String\n",
        "| format\t | Defines thumbnail format as either PNG or JPEG.<br>The default PNG format is implemented as RGBA,<br>where the alpha channel represents valid and<br>invalid pixels, defined by the image’s mask().<br>Invalid pixels are transparent. The optional<br>JPEG format is implemented as RGB, where invalid<br>image pixels are zero filled across RGB channels. | String; either 'png' or 'jpg'"
      ]
    },
    {
      "cell_type": "markdown",
      "metadata": {
        "id": "ueleSANx924f",
        "colab_type": "text"
      },
      "source": [
        "_**Caution:** The 'WIDTHxHEIGHT' dimension argument can alter the original aspect ratio of the data or region extent._"
      ]
    },
    {
      "cell_type": "markdown",
      "metadata": {
        "id": "ARXqTTfl97gH",
        "colab_type": "text"
      },
      "source": [
        "A single-band image will default to grayscale unless a `palette` argument is supplied. A multi-band image will default to RGB visualization of the first three bands, unless a `bands` argument is supplied. If only two bands are provided, the first band will map to red, the second to blue, and the green channel will be zero filled.\n",
        "\n",
        "The following are a series of examples demonstrating various combinations of `getThumbURL()` parameter arguments. Visit the URLs printed to the console when you run this script to view the thumbnails."
      ]
    },
    {
      "cell_type": "code",
      "metadata": {
        "id": "DvrZUPXE-Bd2",
        "colab_type": "code",
        "colab": {}
      },
      "source": [
        "# Fetch a digital elevation model.\n",
        "image = ee.Image('CGIAR/SRTM90_V4')\n",
        "\n",
        "# Request a default thumbnail of the DEM with defined linear stretch.\n",
        "# Set masked pixels (ocean) to 1000 so they map as gray.\n",
        "thumbnail_1 = image.unmask(1000).getThumbURL({\n",
        "    'min': 0,\n",
        "    'max': 3000,\n",
        "    'dimensions': 500,\n",
        "})\n",
        "print('Default extent:', thumbnail_1)\n",
        "\n",
        "# Specify region by rectangle, define palette, set larger aspect dimension size.\n",
        "thumbnail_2 = image.getThumbURL({\n",
        "    'min': 0,\n",
        "    'max': 3000,\n",
        "    'palette': [\n",
        "        '00A600', '63C600', 'E6E600', 'E9BD3A', 'ECB176', 'EFC2B3', 'F2F2F2'\n",
        "    ],\n",
        "    'dimensions': 500,\n",
        "    'region': ee.Geometry.Rectangle([-84.6, -55.9, -32.9, 15.7]),\n",
        "})\n",
        "print('Rectangle region and palette:', thumbnail_2)\n",
        "\n",
        "# Specify region by a linear ring and set display CRS as Web Mercator.\n",
        "thumbnail_3 = image.getThumbURL({\n",
        "    'min': 0,\n",
        "    'max': 3000,\n",
        "    'palette': [\n",
        "        '00A600', '63C600', 'E6E600', 'E9BD3A', 'ECB176', 'EFC2B3', 'F2F2F2'\n",
        "    ],\n",
        "    'region':\n",
        "        ee.Geometry.LinearRing([[-84.6, 15.7], [-84.6, -55.9], [-32.9, -55.9]]),\n",
        "    'dimensions': 500,\n",
        "    'crs': 'EPSG:3857'\n",
        "})\n",
        "print('Linear ring region and specified crs:', thumbnail_3)"
      ],
      "execution_count": null,
      "outputs": []
    },
    {
      "cell_type": "markdown",
      "metadata": {
        "id": "2P0X-7md-ERX",
        "colab_type": "text"
      },
      "source": [
        "_**Note**:_\n",
        "\n",
        "- _Thumbnail images are also available as UI elements. See [here](https://developers.google.com/earth-engine/ui_widgets#uithumbnail) for more details._\n",
        "- _`getThumbURL` is intended as a method for producing preview images you might include in presentations, websites, and social media posts. Its size limitation is 100,000,000 pixels and the browser can timeout for complicated requests. If you want a large image or have a complex process, see the [Exporting Data](https://developers.google.com/earth-engine/exporting) page._"
      ]
    }
  ]
}