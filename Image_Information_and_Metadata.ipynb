{
  "nbformat": 4,
  "nbformat_minor": 0,
  "metadata": {
    "colab": {
      "name": "Image Information and Metadata.ipynb",
      "provenance": []
    },
    "kernelspec": {
      "name": "python3",
      "display_name": "Python 3"
    }
  },
  "cells": [
    {
      "cell_type": "code",
      "metadata": {
        "id": "Si7_2f8J10dx",
        "colab_type": "code",
        "colab": {}
      },
      "source": [
        "#@title Copyright 2020 Google LLC. { display-mode: \"form\" }\n",
        "# Licensed under the Apache License, Version 2.0 (the \"License\");\n",
        "# you may not use this file except in compliance with the License.\n",
        "# You may obtain a copy of the License at\n",
        "#\n",
        "# https://www.apache.org/licenses/LICENSE-2.0\n",
        "#\n",
        "# Unless required by applicable law or agreed to in writing, software\n",
        "# distributed under the License is distributed on an \"AS IS\" BASIS,\n",
        "# WITHOUT WARRANTIES OR CONDITIONS OF ANY KIND, either express or implied.\n",
        "# See the License for the specific language governing permissions and\n",
        "# limitations under the License."
      ],
      "execution_count": null,
      "outputs": []
    },
    {
      "cell_type": "markdown",
      "metadata": {
        "id": "5gXyCzdk2Uch",
        "colab_type": "text"
      },
      "source": [
        "<table class=\"ee-notebook-buttons\" align=\"left\"><td>\n",
        "<a target=\"_blank\"  href=\"http://colab.research.google.com/github/google/earthengine-api/blob/master/python/examples/ipynb/ee-api-colab-setup.ipynb\">\n",
        "    <img src=\"https://www.tensorflow.org/images/colab_logo_32px.png\" /> Run in Google Colab</a>\n",
        "</td><td>\n",
        "<a target=\"_blank\"  href=\"https://github.com/google/earthengine-api/blob/master/python/examples/ipynb/ee-api-colab-setup.ipynb\"><img width=32px src=\"https://www.tensorflow.org/images/GitHub-Mark-32px.png\" /> View source on GitHub</a></td></table>"
      ]
    },
    {
      "cell_type": "markdown",
      "metadata": {
        "id": "qBdFt0u2_85O",
        "colab_type": "text"
      },
      "source": [
        "# Setup"
      ]
    },
    {
      "cell_type": "code",
      "metadata": {
        "id": "yXzjYFAt4eGa",
        "colab_type": "code",
        "colab": {}
      },
      "source": [
        "# Import the Earth Engine library.\n",
        "import ee\n",
        "ee.Authenticate()\n",
        "ee.Initialize()"
      ],
      "execution_count": null,
      "outputs": []
    },
    {
      "cell_type": "markdown",
      "metadata": {
        "id": "bAcYK6c306yL",
        "colab_type": "text"
      },
      "source": [
        "# Image Information and Metadata"
      ]
    },
    {
      "cell_type": "markdown",
      "metadata": {
        "id": "sHUwqJHw0-mu",
        "colab_type": "text"
      },
      "source": [
        "The following snippets demonstrates how to access information about bands, projections, and other metadata:"
      ]
    },
    {
      "cell_type": "code",
      "metadata": {
        "id": "mtbtrrkv0tdK",
        "colab_type": "code",
        "colab": {}
      },
      "source": [
        "# Load an image.\n",
        "image = ee.Image('LANDSAT/LC08/C01/T1/LC08_044034_20140318')\n",
        "\n",
        "# Get information about the bands as a list.\n",
        "band_names = image.bandNames()\n",
        "print('Band names:', band_names.getInfo())  # ee.List of band names\n",
        "\n",
        "# Get projection information from band 1.\n",
        "b1_proj = image.select('B1').projection()\n",
        "print('Band 1 projection:', b1_proj.getInfo())  # ee.Projection object\n",
        "\n",
        "# Get scale (in meters) information from band 1.\n",
        "b1_scale = image.select('B1').projection().nominalScale()\n",
        "print('Band 1 scale:', b1_scale.getInfo())  # ee.Number\n",
        "\n",
        "# Note that different bands can have different projections and scale.\n",
        "b8_scale = image.select('B8').projection().nominalScale()\n",
        "print('Band 8 scale:', b8_scale.getInfo())  # ee.Number\n",
        "\n",
        "# Get a list of all metadata properties.\n",
        "properties = image.propertyNames()\n",
        "print('Metadata properties:',\n",
        "      properties.getInfo())  # ee.List of metadata properties\n",
        "\n",
        "# Get a specific metadata property.\n",
        "cloudiness = image.get('CLOUD_COVER')\n",
        "print('CLOUD_COVER:', cloudiness.getInfo())  # ee.Number\n",
        "\n",
        "# Get the timestamp and convert it to a date.\n",
        "ee_date = ee.Date(image.get('system:time_start'))\n",
        "print('Timestamp:', ee_date.getInfo())  # ee.Date\n",
        "\n",
        "# Date objects transferred to the client are milliseconds since UNIX epoch;\n",
        "# convert to human readable date with the datetime library.\n",
        "from datetime import datetime\n",
        "py_date = datetime.utcfromtimestamp(ee_date.getInfo()['value']/1000.0)\n",
        "print('Date:', py_date)"
      ],
      "execution_count": null,
      "outputs": []
    },
    {
      "cell_type": "markdown",
      "metadata": {
        "id": "u_RkblcS1KAB",
        "colab_type": "text"
      },
      "source": [
        "Note that the results of these queries are server-side objects. When you call `getInfo()`, you request that information describing the object be sent from the server to your client. (Learn more about client vs. server in Earth Engine on [this page](https://developers.google.com/earth-engine/client_server))."
      ]
    },
    {
      "cell_type": "markdown",
      "metadata": {
        "id": "RrFtCm8KeZ-Y",
        "colab_type": "text"
      },
      "source": [
        " Use the `pprint` module to format long, nested object metadata: "
      ]
    },
    {
      "cell_type": "code",
      "metadata": {
        "id": "U6wr4LAqd7Da",
        "colab_type": "code",
        "colab": {}
      },
      "source": [
        "from pprint import pprint\n",
        "pprint(image.getInfo()) "
      ],
      "execution_count": null,
      "outputs": []
    }
  ]
}